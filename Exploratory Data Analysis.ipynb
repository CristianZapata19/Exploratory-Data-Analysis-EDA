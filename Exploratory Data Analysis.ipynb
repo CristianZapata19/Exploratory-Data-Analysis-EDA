{
 "cells": [
  {
   "cell_type": "markdown",
   "id": "474b11c9",
   "metadata": {},
   "source": [
    "# Exploratory Data Analysis EDA\n",
    "\n",
    "**Autor:** Cristian Andrés Zapata Arenas  \n",
    "**Objetivo:** transformar un conjunto de datos crudo en información estructurada y comprensible para la toma de decisiones informadas."
   ]
  },
  {
   "cell_type": "markdown",
   "id": "6d793cb5",
   "metadata": {},
   "source": [
    "Esta segunda entrega marca la transición de las bases de Python a la **ciencia de datos aplicada**, centrándose en el **Análisis Exploratorio de Datos (EDA)** de un dataset sobre estilo de vida y calidad del sueño. A través de la librería **Pandas**, exploraremos la estructura, calidad y distribución de las variables, identificando patrones y anomalías cruciales. El objetivo es transformar datos crudos en *insights* accionables, sentando las bases para cualquier modelado predictivo o toma de decisiones informada sobre la salud."
   ]
  },
  {
   "cell_type": "markdown",
   "id": "53db16eb",
   "metadata": {
    "id": "dyOKN1jtOW3g",
    "papermill": {
     "duration": 0.006702,
     "end_time": "2024-06-10T12:45:32.578181",
     "exception": false,
     "start_time": "2024-06-10T12:45:32.571479",
     "status": "completed"
    },
    "tags": []
   },
   "source": [
    "# Análisis Exploratorio del DataSet Sleep Health and Lifestyle\n",
    "\n",
    "Estos datos codifican la calidad de sueño de distintas personas. Procedemos a su análisis mediante las columnas siguientes:\n",
    "\n",
    "- Person ID: Un identificador para cada individuo\n",
    "- Gener: El género de la persona (Hombre / Mujer)\n",
    "- Age: La edad de las personas en años\n",
    "- Occupation: - La ocupación o profesión de la persona\n",
    "- Sleep Duration (hours) - El número de horas que la persona duerme por día\n",
    "- Quality Sleep (scale: 1-10) - Una calificación subjetiva de la calidad del sueño\n",
    "- Physical Activity Level (minutes/day) - El número de minutos que la persona hace actividad física diariamente\n",
    "- Stress Level (scale: 1-10) - Una calificacoón subjetiva del nivel de estres experimentado por la persona\n",
    "- BMI Category - La categoría de Índice de Masa Corporal\n",
    "- Blood Pressure (systolic/diastolic) - La presión arterial de la persona, indicado como presión sistólica sobre presión diastólica\n",
    "- Heart Rate (bpm) - La frecuencia cardíaca en reposo en latidos por minuto\n",
    "- Dialy Steps - El número de pasos que la persona hace al día\n",
    "- Sleep Disorder - La presencia o ausensica de transtornos del sueño en la persona.\n",
    "\n",
    "## Preguntas que buscamos responder con este conjunto\n",
    "\n",
    "- ¿Quiénes tienen peor calidad del sueño, hombres o mujeres?\n",
    "\n",
    "- ¿Existe una relación entre la calidad del sueño de las personas y su profesión?\n",
    "\n",
    "- ¿La actividad física afecta al sueño?\n",
    "\n",
    "- ¿Qué profesión presenta la peor calidad de sueño?\n",
    "\n",
    "- ¿Cuál profesión tienen a las personas con el mayor nivel de estrés y el mayor índice de masa corporal?\n",
    "\n",
    "- ¿En qué rango de edades se encuentran la mayor cantidad de trastornos del sueño?\n",
    "\n",
    "- La cantidad de pasos al día, ¿afecta la calidad del sueño? ¿al índice de masa corporal?\n",
    "\n",
    "Estas preguntas guiarán nuestro análisis buscando extraer la mayor cantidad de información del Dataset, es importante señalar que en este proyecto solamente haremos análisis de datos utilizando la librería **Pandas**.\n",
    "\n"
   ]
  },
  {
   "cell_type": "code",
   "execution_count": 33,
   "id": "8745c313",
   "metadata": {},
   "outputs": [
    {
     "name": "stdout",
     "output_type": "stream",
     "text": [
      "Requirement already satisfied: pandas in c:\\users\\crisz\\appdata\\local\\programs\\python\\python313\\lib\\site-packages (2.3.3)\n",
      "Requirement already satisfied: numpy>=1.26.0 in c:\\users\\crisz\\appdata\\local\\programs\\python\\python313\\lib\\site-packages (from pandas) (2.3.3)\n",
      "Requirement already satisfied: python-dateutil>=2.8.2 in c:\\users\\crisz\\appdata\\roaming\\python\\python313\\site-packages (from pandas) (2.9.0.post0)\n",
      "Requirement already satisfied: pytz>=2020.1 in c:\\users\\crisz\\appdata\\local\\programs\\python\\python313\\lib\\site-packages (from pandas) (2025.2)\n",
      "Requirement already satisfied: tzdata>=2022.7 in c:\\users\\crisz\\appdata\\local\\programs\\python\\python313\\lib\\site-packages (from pandas) (2025.2)\n",
      "Requirement already satisfied: six>=1.5 in c:\\users\\crisz\\appdata\\roaming\\python\\python313\\site-packages (from python-dateutil>=2.8.2->pandas) (1.17.0)\n",
      "Note: you may need to restart the kernel to use updated packages.\n"
     ]
    }
   ],
   "source": [
    "%pip install pandas"
   ]
  },
  {
   "cell_type": "code",
   "execution_count": 1,
   "id": "e0f8de94",
   "metadata": {},
   "outputs": [
    {
     "name": "stdout",
     "output_type": "stream",
     "text": [
      "Requirement already satisfied: pandas in c:\\users\\crisz\\appdata\\local\\programs\\python\\python313\\lib\\site-packages (2.3.3)\n",
      "Requirement already satisfied: matplotlib in c:\\users\\crisz\\appdata\\local\\programs\\python\\python313\\lib\\site-packages (3.10.6)\n",
      "Requirement already satisfied: seaborn in c:\\users\\crisz\\appdata\\local\\programs\\python\\python313\\lib\\site-packages (0.13.2)\n",
      "Requirement already satisfied: numpy>=1.26.0 in c:\\users\\crisz\\appdata\\local\\programs\\python\\python313\\lib\\site-packages (from pandas) (2.3.3)\n",
      "Requirement already satisfied: python-dateutil>=2.8.2 in c:\\users\\crisz\\appdata\\roaming\\python\\python313\\site-packages (from pandas) (2.9.0.post0)\n",
      "Requirement already satisfied: pytz>=2020.1 in c:\\users\\crisz\\appdata\\local\\programs\\python\\python313\\lib\\site-packages (from pandas) (2025.2)\n",
      "Requirement already satisfied: tzdata>=2022.7 in c:\\users\\crisz\\appdata\\local\\programs\\python\\python313\\lib\\site-packages (from pandas) (2025.2)\n",
      "Requirement already satisfied: contourpy>=1.0.1 in c:\\users\\crisz\\appdata\\local\\programs\\python\\python313\\lib\\site-packages (from matplotlib) (1.3.3)\n",
      "Requirement already satisfied: cycler>=0.10 in c:\\users\\crisz\\appdata\\local\\programs\\python\\python313\\lib\\site-packages (from matplotlib) (0.12.1)\n",
      "Requirement already satisfied: fonttools>=4.22.0 in c:\\users\\crisz\\appdata\\local\\programs\\python\\python313\\lib\\site-packages (from matplotlib) (4.60.1)\n",
      "Requirement already satisfied: kiwisolver>=1.3.1 in c:\\users\\crisz\\appdata\\local\\programs\\python\\python313\\lib\\site-packages (from matplotlib) (1.4.9)\n",
      "Requirement already satisfied: packaging>=20.0 in c:\\users\\crisz\\appdata\\roaming\\python\\python313\\site-packages (from matplotlib) (25.0)\n",
      "Requirement already satisfied: pillow>=8 in c:\\users\\crisz\\appdata\\local\\programs\\python\\python313\\lib\\site-packages (from matplotlib) (11.3.0)\n",
      "Requirement already satisfied: pyparsing>=2.3.1 in c:\\users\\crisz\\appdata\\local\\programs\\python\\python313\\lib\\site-packages (from matplotlib) (3.2.5)\n",
      "Requirement already satisfied: six>=1.5 in c:\\users\\crisz\\appdata\\roaming\\python\\python313\\site-packages (from python-dateutil>=2.8.2->pandas) (1.17.0)\n",
      "Note: you may need to restart the kernel to use updated packages.\n"
     ]
    }
   ],
   "source": [
    "%pip install pandas matplotlib seaborn"
   ]
  },
  {
   "cell_type": "code",
   "execution_count": 2,
   "id": "a489b891",
   "metadata": {},
   "outputs": [
    {
     "name": "stdout",
     "output_type": "stream",
     "text": [
      "DataFrame cargado correctamente con 'Person ID' como índice:\n"
     ]
    },
    {
     "data": {
      "text/html": [
       "<div>\n",
       "<style scoped>\n",
       "    .dataframe tbody tr th:only-of-type {\n",
       "        vertical-align: middle;\n",
       "    }\n",
       "\n",
       "    .dataframe tbody tr th {\n",
       "        vertical-align: top;\n",
       "    }\n",
       "\n",
       "    .dataframe thead th {\n",
       "        text-align: right;\n",
       "    }\n",
       "</style>\n",
       "<table border=\"1\" class=\"dataframe\">\n",
       "  <thead>\n",
       "    <tr style=\"text-align: right;\">\n",
       "      <th></th>\n",
       "      <th>Gender</th>\n",
       "      <th>Age</th>\n",
       "      <th>Occupation</th>\n",
       "      <th>Sleep Duration</th>\n",
       "      <th>Quality of Sleep</th>\n",
       "      <th>Physical Activity Level</th>\n",
       "      <th>Stress Level</th>\n",
       "      <th>BMI Category</th>\n",
       "      <th>Blood Pressure</th>\n",
       "      <th>Heart Rate</th>\n",
       "      <th>Daily Steps</th>\n",
       "      <th>Sleep Disorder</th>\n",
       "    </tr>\n",
       "    <tr>\n",
       "      <th>Person ID</th>\n",
       "      <th></th>\n",
       "      <th></th>\n",
       "      <th></th>\n",
       "      <th></th>\n",
       "      <th></th>\n",
       "      <th></th>\n",
       "      <th></th>\n",
       "      <th></th>\n",
       "      <th></th>\n",
       "      <th></th>\n",
       "      <th></th>\n",
       "      <th></th>\n",
       "    </tr>\n",
       "  </thead>\n",
       "  <tbody>\n",
       "    <tr>\n",
       "      <th>1</th>\n",
       "      <td>Male</td>\n",
       "      <td>27</td>\n",
       "      <td>Software Engineer</td>\n",
       "      <td>6.1</td>\n",
       "      <td>6</td>\n",
       "      <td>42</td>\n",
       "      <td>6</td>\n",
       "      <td>Overweight</td>\n",
       "      <td>126/83</td>\n",
       "      <td>77</td>\n",
       "      <td>4200</td>\n",
       "      <td>NaN</td>\n",
       "    </tr>\n",
       "    <tr>\n",
       "      <th>2</th>\n",
       "      <td>Male</td>\n",
       "      <td>28</td>\n",
       "      <td>Doctor</td>\n",
       "      <td>6.2</td>\n",
       "      <td>6</td>\n",
       "      <td>60</td>\n",
       "      <td>8</td>\n",
       "      <td>Normal</td>\n",
       "      <td>125/80</td>\n",
       "      <td>75</td>\n",
       "      <td>10000</td>\n",
       "      <td>NaN</td>\n",
       "    </tr>\n",
       "    <tr>\n",
       "      <th>3</th>\n",
       "      <td>Male</td>\n",
       "      <td>28</td>\n",
       "      <td>Doctor</td>\n",
       "      <td>6.2</td>\n",
       "      <td>6</td>\n",
       "      <td>60</td>\n",
       "      <td>8</td>\n",
       "      <td>Normal</td>\n",
       "      <td>125/80</td>\n",
       "      <td>75</td>\n",
       "      <td>10000</td>\n",
       "      <td>NaN</td>\n",
       "    </tr>\n",
       "    <tr>\n",
       "      <th>4</th>\n",
       "      <td>Male</td>\n",
       "      <td>28</td>\n",
       "      <td>Sales Representative</td>\n",
       "      <td>5.9</td>\n",
       "      <td>4</td>\n",
       "      <td>30</td>\n",
       "      <td>8</td>\n",
       "      <td>Obese</td>\n",
       "      <td>140/90</td>\n",
       "      <td>85</td>\n",
       "      <td>3000</td>\n",
       "      <td>Sleep Apnea</td>\n",
       "    </tr>\n",
       "    <tr>\n",
       "      <th>5</th>\n",
       "      <td>Male</td>\n",
       "      <td>28</td>\n",
       "      <td>Sales Representative</td>\n",
       "      <td>5.9</td>\n",
       "      <td>4</td>\n",
       "      <td>30</td>\n",
       "      <td>8</td>\n",
       "      <td>Obese</td>\n",
       "      <td>140/90</td>\n",
       "      <td>85</td>\n",
       "      <td>3000</td>\n",
       "      <td>Sleep Apnea</td>\n",
       "    </tr>\n",
       "  </tbody>\n",
       "</table>\n",
       "</div>"
      ],
      "text/plain": [
       "          Gender  Age            Occupation  Sleep Duration  Quality of Sleep  \\\n",
       "Person ID                                                                       \n",
       "1           Male   27     Software Engineer             6.1                 6   \n",
       "2           Male   28                Doctor             6.2                 6   \n",
       "3           Male   28                Doctor             6.2                 6   \n",
       "4           Male   28  Sales Representative             5.9                 4   \n",
       "5           Male   28  Sales Representative             5.9                 4   \n",
       "\n",
       "           Physical Activity Level  Stress Level BMI Category Blood Pressure  \\\n",
       "Person ID                                                                      \n",
       "1                               42             6   Overweight         126/83   \n",
       "2                               60             8       Normal         125/80   \n",
       "3                               60             8       Normal         125/80   \n",
       "4                               30             8        Obese         140/90   \n",
       "5                               30             8        Obese         140/90   \n",
       "\n",
       "           Heart Rate  Daily Steps Sleep Disorder  \n",
       "Person ID                                          \n",
       "1                  77         4200            NaN  \n",
       "2                  75        10000            NaN  \n",
       "3                  75        10000            NaN  \n",
       "4                  85         3000    Sleep Apnea  \n",
       "5                  85         3000    Sleep Apnea  "
      ]
     },
     "execution_count": 2,
     "metadata": {},
     "output_type": "execute_result"
    }
   ],
   "source": [
    "import pandas as pd # type: ignore\n",
    "\n",
    "# Se carga el archivo en formato CSV\n",
    "data = pd.read_csv('C:/Users/crisz/Downloads/Sleep_health_and_lifestyle_dataset.csv',\n",
    "                   index_col=\"Person ID\")\n",
    "\n",
    "# Asignamos el DataFrame a una variable descriptiva.\n",
    "dfLifestyle = data\n",
    "\n",
    "# Muestra las primeras 5 filas para verificar la carga y el índice.\n",
    "print(\"DataFrame cargado correctamente con 'Person ID' como índice:\")\n",
    "dfLifestyle.head()"
   ]
  },
  {
   "cell_type": "code",
   "execution_count": 3,
   "id": "e0484101",
   "metadata": {},
   "outputs": [
    {
     "name": "stdout",
     "output_type": "stream",
     "text": [
      "          Gender  Age            Occupation  Sleep Duration  Quality of Sleep  \\\n",
      "Person ID                                                                       \n",
      "1           Male   27     Software Engineer             6.1                 6   \n",
      "2           Male   28                Doctor             6.2                 6   \n",
      "3           Male   28                Doctor             6.2                 6   \n",
      "4           Male   28  Sales Representative             5.9                 4   \n",
      "5           Male   28  Sales Representative             5.9                 4   \n",
      "\n",
      "           Physical Activity Level  Stress Level BMI Category Blood Pressure  \\\n",
      "Person ID                                                                      \n",
      "1                               42             6   Overweight         126/83   \n",
      "2                               60             8       Normal         125/80   \n",
      "3                               60             8       Normal         125/80   \n",
      "4                               30             8        Obese         140/90   \n",
      "5                               30             8        Obese         140/90   \n",
      "\n",
      "           Heart Rate  Daily Steps Sleep Disorder  \n",
      "Person ID                                          \n",
      "1                  77         4200            NaN  \n",
      "2                  75        10000            NaN  \n",
      "3                  75        10000            NaN  \n",
      "4                  85         3000    Sleep Apnea  \n",
      "5                  85         3000    Sleep Apnea  \n"
     ]
    }
   ],
   "source": [
    "# Importamos nuestras librerías para el proyecto\n",
    "import pandas as pd # type: ignore\n",
    "import matplotlib.pyplot as plt\n",
    "import seaborn as sns\n",
    "\n",
    "# Configuramos un estilo visual atractivo para todas nuestras gráficas\n",
    "sns.set_style(\"whitegrid\")\n",
    "plt.rcParams['figure.figsize'] = (10, 6) # Establece un tamaño de figura por defecto\n",
    "\n",
    "# Visualizamos los primeros datos\n",
    "print(dfLifestyle.head())\n",
    "\n",
    "# --- Tu código de análisis inicial (info, describe, etc.) ---\n",
    "# ... (Aquí iría tu código de dfLifestyle.info(), dfLifestyle.describe(), etc.)"
   ]
  },
  {
   "cell_type": "code",
   "execution_count": 20,
   "id": "86fe6aec",
   "metadata": {
    "execution": {
     "iopub.execute_input": "2024-06-10T12:45:33.597844Z",
     "iopub.status.busy": "2024-06-10T12:45:33.597464Z",
     "iopub.status.idle": "2024-06-10T12:45:33.617767Z",
     "shell.execute_reply": "2024-06-10T12:45:33.616587Z"
    },
    "id": "46S_czyha0lE",
    "outputId": "6b97a303-eb05-4776-f040-ade4b5183860",
    "papermill": {
     "duration": 0.030513,
     "end_time": "2024-06-10T12:45:33.620207",
     "exception": false,
     "start_time": "2024-06-10T12:45:33.589694",
     "status": "completed"
    },
    "tags": []
   },
   "outputs": [
    {
     "name": "stdout",
     "output_type": "stream",
     "text": [
      "<class 'pandas.core.frame.DataFrame'>\n",
      "Index: 374 entries, 1 to 374\n",
      "Data columns (total 12 columns):\n",
      " #   Column                   Non-Null Count  Dtype  \n",
      "---  ------                   --------------  -----  \n",
      " 0   Gender                   374 non-null    object \n",
      " 1   Age                      374 non-null    int64  \n",
      " 2   Occupation               374 non-null    object \n",
      " 3   Sleep Duration           374 non-null    float64\n",
      " 4   Quality of Sleep         374 non-null    int64  \n",
      " 5   Physical Activity Level  374 non-null    int64  \n",
      " 6   Stress Level             374 non-null    int64  \n",
      " 7   BMI Category             374 non-null    object \n",
      " 8   Blood Pressure           374 non-null    object \n",
      " 9   Heart Rate               374 non-null    int64  \n",
      " 10  Daily Steps              374 non-null    int64  \n",
      " 11  Sleep Disorder           155 non-null    object \n",
      "dtypes: float64(1), int64(6), object(5)\n",
      "memory usage: 38.0+ KB\n"
     ]
    }
   ],
   "source": [
    "# Información general del conjunto\n",
    "dfLifestyle.info()"
   ]
  },
  {
   "cell_type": "code",
   "execution_count": 21,
   "id": "11c65485",
   "metadata": {
    "execution": {
     "iopub.execute_input": "2024-06-10T12:45:33.635363Z",
     "iopub.status.busy": "2024-06-10T12:45:33.634480Z",
     "iopub.status.idle": "2024-06-10T12:45:33.664817Z",
     "shell.execute_reply": "2024-06-10T12:45:33.663727Z"
    },
    "id": "U2U7n0vG2v6o",
    "outputId": "783ecbbd-f0ff-43c5-ccf0-065226c51b08",
    "papermill": {
     "duration": 0.040447,
     "end_time": "2024-06-10T12:45:33.667275",
     "exception": false,
     "start_time": "2024-06-10T12:45:33.626828",
     "status": "completed"
    },
    "tags": []
   },
   "outputs": [
    {
     "data": {
      "text/html": [
       "<div>\n",
       "<style scoped>\n",
       "    .dataframe tbody tr th:only-of-type {\n",
       "        vertical-align: middle;\n",
       "    }\n",
       "\n",
       "    .dataframe tbody tr th {\n",
       "        vertical-align: top;\n",
       "    }\n",
       "\n",
       "    .dataframe thead th {\n",
       "        text-align: right;\n",
       "    }\n",
       "</style>\n",
       "<table border=\"1\" class=\"dataframe\">\n",
       "  <thead>\n",
       "    <tr style=\"text-align: right;\">\n",
       "      <th></th>\n",
       "      <th>Age</th>\n",
       "      <th>Sleep Duration</th>\n",
       "      <th>Quality of Sleep</th>\n",
       "      <th>Physical Activity Level</th>\n",
       "      <th>Stress Level</th>\n",
       "      <th>Heart Rate</th>\n",
       "      <th>Daily Steps</th>\n",
       "    </tr>\n",
       "  </thead>\n",
       "  <tbody>\n",
       "    <tr>\n",
       "      <th>count</th>\n",
       "      <td>374.000000</td>\n",
       "      <td>374.000000</td>\n",
       "      <td>374.000000</td>\n",
       "      <td>374.000000</td>\n",
       "      <td>374.000000</td>\n",
       "      <td>374.000000</td>\n",
       "      <td>374.000000</td>\n",
       "    </tr>\n",
       "    <tr>\n",
       "      <th>mean</th>\n",
       "      <td>42.184492</td>\n",
       "      <td>7.132086</td>\n",
       "      <td>7.312834</td>\n",
       "      <td>59.171123</td>\n",
       "      <td>5.385027</td>\n",
       "      <td>70.165775</td>\n",
       "      <td>6816.844920</td>\n",
       "    </tr>\n",
       "    <tr>\n",
       "      <th>std</th>\n",
       "      <td>8.673133</td>\n",
       "      <td>0.795657</td>\n",
       "      <td>1.196956</td>\n",
       "      <td>20.830804</td>\n",
       "      <td>1.774526</td>\n",
       "      <td>4.135676</td>\n",
       "      <td>1617.915679</td>\n",
       "    </tr>\n",
       "    <tr>\n",
       "      <th>min</th>\n",
       "      <td>27.000000</td>\n",
       "      <td>5.800000</td>\n",
       "      <td>4.000000</td>\n",
       "      <td>30.000000</td>\n",
       "      <td>3.000000</td>\n",
       "      <td>65.000000</td>\n",
       "      <td>3000.000000</td>\n",
       "    </tr>\n",
       "    <tr>\n",
       "      <th>25%</th>\n",
       "      <td>35.250000</td>\n",
       "      <td>6.400000</td>\n",
       "      <td>6.000000</td>\n",
       "      <td>45.000000</td>\n",
       "      <td>4.000000</td>\n",
       "      <td>68.000000</td>\n",
       "      <td>5600.000000</td>\n",
       "    </tr>\n",
       "    <tr>\n",
       "      <th>50%</th>\n",
       "      <td>43.000000</td>\n",
       "      <td>7.200000</td>\n",
       "      <td>7.000000</td>\n",
       "      <td>60.000000</td>\n",
       "      <td>5.000000</td>\n",
       "      <td>70.000000</td>\n",
       "      <td>7000.000000</td>\n",
       "    </tr>\n",
       "    <tr>\n",
       "      <th>75%</th>\n",
       "      <td>50.000000</td>\n",
       "      <td>7.800000</td>\n",
       "      <td>8.000000</td>\n",
       "      <td>75.000000</td>\n",
       "      <td>7.000000</td>\n",
       "      <td>72.000000</td>\n",
       "      <td>8000.000000</td>\n",
       "    </tr>\n",
       "    <tr>\n",
       "      <th>max</th>\n",
       "      <td>59.000000</td>\n",
       "      <td>8.500000</td>\n",
       "      <td>9.000000</td>\n",
       "      <td>90.000000</td>\n",
       "      <td>8.000000</td>\n",
       "      <td>86.000000</td>\n",
       "      <td>10000.000000</td>\n",
       "    </tr>\n",
       "  </tbody>\n",
       "</table>\n",
       "</div>"
      ],
      "text/plain": [
       "              Age  Sleep Duration  Quality of Sleep  Physical Activity Level  \\\n",
       "count  374.000000      374.000000        374.000000               374.000000   \n",
       "mean    42.184492        7.132086          7.312834                59.171123   \n",
       "std      8.673133        0.795657          1.196956                20.830804   \n",
       "min     27.000000        5.800000          4.000000                30.000000   \n",
       "25%     35.250000        6.400000          6.000000                45.000000   \n",
       "50%     43.000000        7.200000          7.000000                60.000000   \n",
       "75%     50.000000        7.800000          8.000000                75.000000   \n",
       "max     59.000000        8.500000          9.000000                90.000000   \n",
       "\n",
       "       Stress Level  Heart Rate   Daily Steps  \n",
       "count    374.000000  374.000000    374.000000  \n",
       "mean       5.385027   70.165775   6816.844920  \n",
       "std        1.774526    4.135676   1617.915679  \n",
       "min        3.000000   65.000000   3000.000000  \n",
       "25%        4.000000   68.000000   5600.000000  \n",
       "50%        5.000000   70.000000   7000.000000  \n",
       "75%        7.000000   72.000000   8000.000000  \n",
       "max        8.000000   86.000000  10000.000000  "
      ]
     },
     "execution_count": 21,
     "metadata": {},
     "output_type": "execute_result"
    }
   ],
   "source": [
    "# Descripción general de las variables numericas del conjunto\n",
    "dfLifestyle.describe()"
   ]
  },
  {
   "cell_type": "markdown",
   "id": "9f0c6db0",
   "metadata": {
    "id": "dlfqoJuLb2vR",
    "papermill": {
     "duration": 0.006686,
     "end_time": "2024-06-10T12:45:33.680947",
     "exception": false,
     "start_time": "2024-06-10T12:45:33.674261",
     "status": "completed"
    },
    "tags": []
   },
   "source": [
    "### Análisis de las edades"
   ]
  },
  {
   "cell_type": "code",
   "execution_count": 22,
   "id": "8228c22b",
   "metadata": {
    "execution": {
     "iopub.execute_input": "2024-06-10T12:45:33.696841Z",
     "iopub.status.busy": "2024-06-10T12:45:33.695998Z",
     "iopub.status.idle": "2024-06-10T12:45:33.704474Z",
     "shell.execute_reply": "2024-06-10T12:45:33.703262Z"
    },
    "id": "LhF6LfrjbeH9",
    "outputId": "811deab2-141e-46b2-df71-3c6a1bda6387",
    "papermill": {
     "duration": 0.018819,
     "end_time": "2024-06-10T12:45:33.706579",
     "exception": false,
     "start_time": "2024-06-10T12:45:33.687760",
     "status": "completed"
    },
    "tags": []
   },
   "outputs": [
    {
     "data": {
      "text/plain": [
       "Gender\n",
       "Male      189\n",
       "Female    185\n",
       "Name: count, dtype: int64"
      ]
     },
     "execution_count": 22,
     "metadata": {},
     "output_type": "execute_result"
    }
   ],
   "source": [
    "# Cantidad de hombres y mujeres en el conjunto\n",
    "dfLifestyle['Gender'].value_counts()"
   ]
  },
  {
   "cell_type": "code",
   "execution_count": 23,
   "id": "0ebd37c5",
   "metadata": {
    "execution": {
     "iopub.execute_input": "2024-06-10T12:45:33.722320Z",
     "iopub.status.busy": "2024-06-10T12:45:33.721607Z",
     "iopub.status.idle": "2024-06-10T12:45:33.729079Z",
     "shell.execute_reply": "2024-06-10T12:45:33.727980Z"
    },
    "id": "VsHb5oJnbpA8",
    "outputId": "3d0e7220-0fbd-44bb-a0aa-7825b6f2e1fb",
    "papermill": {
     "duration": 0.017848,
     "end_time": "2024-06-10T12:45:33.731399",
     "exception": false,
     "start_time": "2024-06-10T12:45:33.713551",
     "status": "completed"
    },
    "tags": []
   },
   "outputs": [
    {
     "data": {
      "text/plain": [
       "np.float64(42.18449197860963)"
      ]
     },
     "execution_count": 23,
     "metadata": {},
     "output_type": "execute_result"
    }
   ],
   "source": [
    "# Promedio de la edad\n",
    "dfLifestyle['Age'].mean()"
   ]
  },
  {
   "cell_type": "code",
   "execution_count": 24,
   "id": "d9db99bd",
   "metadata": {
    "execution": {
     "iopub.execute_input": "2024-06-10T12:45:33.747739Z",
     "iopub.status.busy": "2024-06-10T12:45:33.747332Z",
     "iopub.status.idle": "2024-06-10T12:45:33.754022Z",
     "shell.execute_reply": "2024-06-10T12:45:33.753027Z"
    },
    "id": "DCOmjhepbuWB",
    "outputId": "5353aa71-f1f1-4182-c976-e1033c4488a9",
    "papermill": {
     "duration": 0.017493,
     "end_time": "2024-06-10T12:45:33.756367",
     "exception": false,
     "start_time": "2024-06-10T12:45:33.738874",
     "status": "completed"
    },
    "tags": []
   },
   "outputs": [
    {
     "data": {
      "text/plain": [
       "np.float64(8.673133465547243)"
      ]
     },
     "execution_count": 24,
     "metadata": {},
     "output_type": "execute_result"
    }
   ],
   "source": [
    "# Desviación estándar del conjunto\n",
    "dfLifestyle['Age'].std()"
   ]
  },
  {
   "cell_type": "code",
   "execution_count": 25,
   "id": "454c57b7",
   "metadata": {
    "execution": {
     "iopub.execute_input": "2024-06-10T12:45:33.774103Z",
     "iopub.status.busy": "2024-06-10T12:45:33.773717Z",
     "iopub.status.idle": "2024-06-10T12:45:33.780695Z",
     "shell.execute_reply": "2024-06-10T12:45:33.779725Z"
    },
    "id": "Qs9KMRpKc6dn",
    "outputId": "8d180a0e-08b3-49b0-8687-8123415391b3",
    "papermill": {
     "duration": 0.018998,
     "end_time": "2024-06-10T12:45:33.782866",
     "exception": false,
     "start_time": "2024-06-10T12:45:33.763868",
     "status": "completed"
    },
    "tags": []
   },
   "outputs": [
    {
     "data": {
      "text/plain": [
       "np.int64(27)"
      ]
     },
     "execution_count": 25,
     "metadata": {},
     "output_type": "execute_result"
    }
   ],
   "source": [
    "# Valor mínimo de las edades\n",
    "dfLifestyle['Age'].min()"
   ]
  },
  {
   "cell_type": "code",
   "execution_count": 26,
   "id": "86951220",
   "metadata": {
    "execution": {
     "iopub.execute_input": "2024-06-10T12:45:33.799284Z",
     "iopub.status.busy": "2024-06-10T12:45:33.798869Z",
     "iopub.status.idle": "2024-06-10T12:45:33.805866Z",
     "shell.execute_reply": "2024-06-10T12:45:33.804740Z"
    },
    "id": "HuwBuegOc78W",
    "outputId": "ac561f44-9d26-44ec-8526-39a30be1a85d",
    "papermill": {
     "duration": 0.017916,
     "end_time": "2024-06-10T12:45:33.808158",
     "exception": false,
     "start_time": "2024-06-10T12:45:33.790242",
     "status": "completed"
    },
    "tags": []
   },
   "outputs": [
    {
     "data": {
      "text/plain": [
       "np.int64(59)"
      ]
     },
     "execution_count": 26,
     "metadata": {},
     "output_type": "execute_result"
    }
   ],
   "source": [
    "# Valor máximo de las edades\n",
    "dfLifestyle['Age'].max()"
   ]
  },
  {
   "cell_type": "code",
   "execution_count": 27,
   "id": "128798f8",
   "metadata": {
    "execution": {
     "iopub.execute_input": "2024-06-10T12:45:33.826049Z",
     "iopub.status.busy": "2024-06-10T12:45:33.825657Z",
     "iopub.status.idle": "2024-06-10T12:45:33.846136Z",
     "shell.execute_reply": "2024-06-10T12:45:33.845104Z"
    },
    "id": "fjO26rtQc4Te",
    "papermill": {
     "duration": 0.032193,
     "end_time": "2024-06-10T12:45:33.848474",
     "exception": false,
     "start_time": "2024-06-10T12:45:33.816281",
     "status": "completed"
    },
    "tags": []
   },
   "outputs": [
    {
     "data": {
      "text/html": [
       "<div>\n",
       "<style scoped>\n",
       "    .dataframe tbody tr th:only-of-type {\n",
       "        vertical-align: middle;\n",
       "    }\n",
       "\n",
       "    .dataframe tbody tr th {\n",
       "        vertical-align: top;\n",
       "    }\n",
       "\n",
       "    .dataframe thead th {\n",
       "        text-align: right;\n",
       "    }\n",
       "</style>\n",
       "<table border=\"1\" class=\"dataframe\">\n",
       "  <thead>\n",
       "    <tr style=\"text-align: right;\">\n",
       "      <th></th>\n",
       "      <th>Gender</th>\n",
       "      <th>Age</th>\n",
       "      <th>Occupation</th>\n",
       "      <th>Sleep Duration</th>\n",
       "      <th>Quality of Sleep</th>\n",
       "      <th>Physical Activity Level</th>\n",
       "      <th>Stress Level</th>\n",
       "      <th>BMI Category</th>\n",
       "      <th>Blood Pressure</th>\n",
       "      <th>Heart Rate</th>\n",
       "      <th>Daily Steps</th>\n",
       "      <th>Sleep Disorder</th>\n",
       "      <th>Age_group</th>\n",
       "    </tr>\n",
       "    <tr>\n",
       "      <th>Person ID</th>\n",
       "      <th></th>\n",
       "      <th></th>\n",
       "      <th></th>\n",
       "      <th></th>\n",
       "      <th></th>\n",
       "      <th></th>\n",
       "      <th></th>\n",
       "      <th></th>\n",
       "      <th></th>\n",
       "      <th></th>\n",
       "      <th></th>\n",
       "      <th></th>\n",
       "      <th></th>\n",
       "    </tr>\n",
       "  </thead>\n",
       "  <tbody>\n",
       "    <tr>\n",
       "      <th>1</th>\n",
       "      <td>Male</td>\n",
       "      <td>27</td>\n",
       "      <td>Software Engineer</td>\n",
       "      <td>6.1</td>\n",
       "      <td>6</td>\n",
       "      <td>42</td>\n",
       "      <td>6</td>\n",
       "      <td>Overweight</td>\n",
       "      <td>126/83</td>\n",
       "      <td>77</td>\n",
       "      <td>4200</td>\n",
       "      <td>NaN</td>\n",
       "      <td>Adult</td>\n",
       "    </tr>\n",
       "    <tr>\n",
       "      <th>2</th>\n",
       "      <td>Male</td>\n",
       "      <td>28</td>\n",
       "      <td>Doctor</td>\n",
       "      <td>6.2</td>\n",
       "      <td>6</td>\n",
       "      <td>60</td>\n",
       "      <td>8</td>\n",
       "      <td>Normal</td>\n",
       "      <td>125/80</td>\n",
       "      <td>75</td>\n",
       "      <td>10000</td>\n",
       "      <td>NaN</td>\n",
       "      <td>Adult</td>\n",
       "    </tr>\n",
       "    <tr>\n",
       "      <th>3</th>\n",
       "      <td>Male</td>\n",
       "      <td>28</td>\n",
       "      <td>Doctor</td>\n",
       "      <td>6.2</td>\n",
       "      <td>6</td>\n",
       "      <td>60</td>\n",
       "      <td>8</td>\n",
       "      <td>Normal</td>\n",
       "      <td>125/80</td>\n",
       "      <td>75</td>\n",
       "      <td>10000</td>\n",
       "      <td>NaN</td>\n",
       "      <td>Adult</td>\n",
       "    </tr>\n",
       "    <tr>\n",
       "      <th>4</th>\n",
       "      <td>Male</td>\n",
       "      <td>28</td>\n",
       "      <td>Sales Representative</td>\n",
       "      <td>5.9</td>\n",
       "      <td>4</td>\n",
       "      <td>30</td>\n",
       "      <td>8</td>\n",
       "      <td>Obese</td>\n",
       "      <td>140/90</td>\n",
       "      <td>85</td>\n",
       "      <td>3000</td>\n",
       "      <td>Sleep Apnea</td>\n",
       "      <td>Adult</td>\n",
       "    </tr>\n",
       "    <tr>\n",
       "      <th>5</th>\n",
       "      <td>Male</td>\n",
       "      <td>28</td>\n",
       "      <td>Sales Representative</td>\n",
       "      <td>5.9</td>\n",
       "      <td>4</td>\n",
       "      <td>30</td>\n",
       "      <td>8</td>\n",
       "      <td>Obese</td>\n",
       "      <td>140/90</td>\n",
       "      <td>85</td>\n",
       "      <td>3000</td>\n",
       "      <td>Sleep Apnea</td>\n",
       "      <td>Adult</td>\n",
       "    </tr>\n",
       "  </tbody>\n",
       "</table>\n",
       "</div>"
      ],
      "text/plain": [
       "          Gender  Age            Occupation  Sleep Duration  Quality of Sleep  \\\n",
       "Person ID                                                                       \n",
       "1           Male   27     Software Engineer             6.1                 6   \n",
       "2           Male   28                Doctor             6.2                 6   \n",
       "3           Male   28                Doctor             6.2                 6   \n",
       "4           Male   28  Sales Representative             5.9                 4   \n",
       "5           Male   28  Sales Representative             5.9                 4   \n",
       "\n",
       "           Physical Activity Level  Stress Level BMI Category Blood Pressure  \\\n",
       "Person ID                                                                      \n",
       "1                               42             6   Overweight         126/83   \n",
       "2                               60             8       Normal         125/80   \n",
       "3                               60             8       Normal         125/80   \n",
       "4                               30             8        Obese         140/90   \n",
       "5                               30             8        Obese         140/90   \n",
       "\n",
       "           Heart Rate  Daily Steps Sleep Disorder Age_group  \n",
       "Person ID                                                    \n",
       "1                  77         4200            NaN     Adult  \n",
       "2                  75        10000            NaN     Adult  \n",
       "3                  75        10000            NaN     Adult  \n",
       "4                  85         3000    Sleep Apnea     Adult  \n",
       "5                  85         3000    Sleep Apnea     Adult  "
      ]
     },
     "execution_count": 27,
     "metadata": {},
     "output_type": "execute_result"
    }
   ],
   "source": [
    "# Creamos una columna nueva para clasificar por Adulto (hasta 40) y Mayores (más de 40)\n",
    "dfLifestyle.loc[data['Age']<=40, 'Age_group'] = 'Adult'\n",
    "dfLifestyle.loc[data['Age']>=41, 'Age_group'] = 'Older Adult'\n",
    "dfLifestyle.head()"
   ]
  },
  {
   "cell_type": "code",
   "execution_count": 28,
   "id": "a87162c9",
   "metadata": {
    "execution": {
     "iopub.execute_input": "2024-06-10T12:45:33.866129Z",
     "iopub.status.busy": "2024-06-10T12:45:33.865778Z",
     "iopub.status.idle": "2024-06-10T12:45:33.873584Z",
     "shell.execute_reply": "2024-06-10T12:45:33.872569Z"
    },
    "id": "VF14hgRlrCQV",
    "outputId": "ee51e83f-c334-42c7-d93d-f765eda3a651",
    "papermill": {
     "duration": 0.019283,
     "end_time": "2024-06-10T12:45:33.875974",
     "exception": false,
     "start_time": "2024-06-10T12:45:33.856691",
     "status": "completed"
    },
    "tags": []
   },
   "outputs": [
    {
     "data": {
      "text/plain": [
       "Age_group\n",
       "Older Adult    209\n",
       "Adult          165\n",
       "Name: count, dtype: int64"
      ]
     },
     "execution_count": 28,
     "metadata": {},
     "output_type": "execute_result"
    }
   ],
   "source": [
    "# Cantidad de Adultos y Mayores del conjunto\n",
    "dfLifestyle['Age_group'].value_counts()"
   ]
  },
  {
   "cell_type": "code",
   "execution_count": 29,
   "id": "56ac083b",
   "metadata": {
    "execution": {
     "iopub.execute_input": "2024-06-10T12:45:33.893998Z",
     "iopub.status.busy": "2024-06-10T12:45:33.892969Z",
     "iopub.status.idle": "2024-06-10T12:45:33.908543Z",
     "shell.execute_reply": "2024-06-10T12:45:33.907478Z"
    },
    "id": "Jf2MD6GWiypG",
    "outputId": "b26fc09d-d942-49f7-930b-89abb51844b7",
    "papermill": {
     "duration": 0.027083,
     "end_time": "2024-06-10T12:45:33.910908",
     "exception": false,
     "start_time": "2024-06-10T12:45:33.883825",
     "status": "completed"
    },
    "tags": []
   },
   "outputs": [
    {
     "data": {
      "text/html": [
       "<div>\n",
       "<style scoped>\n",
       "    .dataframe tbody tr th:only-of-type {\n",
       "        vertical-align: middle;\n",
       "    }\n",
       "\n",
       "    .dataframe tbody tr th {\n",
       "        vertical-align: top;\n",
       "    }\n",
       "\n",
       "    .dataframe thead th {\n",
       "        text-align: right;\n",
       "    }\n",
       "</style>\n",
       "<table border=\"1\" class=\"dataframe\">\n",
       "  <thead>\n",
       "    <tr style=\"text-align: right;\">\n",
       "      <th></th>\n",
       "      <th>mean</th>\n",
       "      <th>std</th>\n",
       "    </tr>\n",
       "    <tr>\n",
       "      <th>Gender</th>\n",
       "      <th></th>\n",
       "      <th></th>\n",
       "    </tr>\n",
       "  </thead>\n",
       "  <tbody>\n",
       "    <tr>\n",
       "      <th>Female</th>\n",
       "      <td>47.405405</td>\n",
       "      <td>8.093407</td>\n",
       "    </tr>\n",
       "    <tr>\n",
       "      <th>Male</th>\n",
       "      <td>37.074074</td>\n",
       "      <td>5.662006</td>\n",
       "    </tr>\n",
       "  </tbody>\n",
       "</table>\n",
       "</div>"
      ],
      "text/plain": [
       "             mean       std\n",
       "Gender                     \n",
       "Female  47.405405  8.093407\n",
       "Male    37.074074  5.662006"
      ]
     },
     "execution_count": 29,
     "metadata": {},
     "output_type": "execute_result"
    }
   ],
   "source": [
    "# Promedio y desviación estándar de las edades divididas entre hombres y mujeres\n",
    "dfLifestyle.groupby('Gender')['Age'].agg(['mean', 'std'])"
   ]
  },
  {
   "cell_type": "code",
   "execution_count": 48,
   "id": "ee36ca23",
   "metadata": {},
   "outputs": [
    {
     "name": "stderr",
     "output_type": "stream",
     "text": [
      "C:\\Users\\crisz\\AppData\\Local\\Temp\\ipykernel_9520\\102274335.py:3: FutureWarning: \n",
      "\n",
      "Passing `palette` without assigning `hue` is deprecated and will be removed in v0.14.0. Assign the `x` variable to `hue` and set `legend=False` for the same effect.\n",
      "\n",
      "  sns.boxplot(x='Gender', y='Quality of Sleep', data=dfLifestyle, palette='viridis')\n"
     ]
    },
    {
     "data": {
      "image/png": "[encoded data removed]",
      "text/plain": [
       "<Figure size 800x600 with 1 Axes>"
      ]
     },
     "metadata": {},
     "output_type": "display_data"
    }
   ],
   "source": [
    "## Gráfica: Calidad del Sueño por Género\n",
    "plt.figure(figsize=(8, 6))\n",
    "sns.boxplot(x='Gender', y='Quality of Sleep', data=dfLifestyle, palette='viridis')\n",
    "\n",
    "# Añadimos títulos y etiquetas para mayor claridad\n",
    "plt.title('Comparación de la Calidad del Sueño por Género', fontsize=16)\n",
    "plt.xlabel('Género', fontsize=12)\n",
    "plt.ylabel('Calidad del Sueño (Escala 1-10)', fontsize=12)\n",
    "plt.show()"
   ]
  },
  {
   "cell_type": "markdown",
   "id": "a0f895d5",
   "metadata": {
    "id": "jfuYBLk2kVUX",
    "papermill": {
     "duration": 0.007696,
     "end_time": "2024-06-10T12:45:33.926699",
     "exception": false,
     "start_time": "2024-06-10T12:45:33.919003",
     "status": "completed"
    },
    "tags": []
   },
   "source": [
    "## Análisis de las ocupaciones"
   ]
  },
  {
   "cell_type": "code",
   "execution_count": 30,
   "id": "20b3a2f6",
   "metadata": {
    "execution": {
     "iopub.execute_input": "2024-06-10T12:45:33.944534Z",
     "iopub.status.busy": "2024-06-10T12:45:33.943821Z",
     "iopub.status.idle": "2024-06-10T12:45:33.960612Z",
     "shell.execute_reply": "2024-06-10T12:45:33.959452Z"
    },
    "id": "sN1bgGbNlLxB",
    "outputId": "f838147f-f028-45e9-c375-7cdf99cf0038",
    "papermill": {
     "duration": 0.028346,
     "end_time": "2024-06-10T12:45:33.962892",
     "exception": false,
     "start_time": "2024-06-10T12:45:33.934546",
     "status": "completed"
    },
    "tags": []
   },
   "outputs": [
    {
     "data": {
      "text/plain": [
       "Occupation            Gender\n",
       "Accountant            Female    36\n",
       "                      Male       1\n",
       "Doctor                Male      69\n",
       "                      Female     2\n",
       "Engineer              Female    32\n",
       "                      Male      31\n",
       "Lawyer                Male      45\n",
       "                      Female     2\n",
       "Manager               Female     1\n",
       "Nurse                 Female    73\n",
       "Sales Representative  Male       2\n",
       "Salesperson           Male      32\n",
       "Scientist             Female     4\n",
       "Software Engineer     Male       4\n",
       "Teacher               Female    35\n",
       "                      Male       5\n",
       "Name: count, dtype: int64"
      ]
     },
     "execution_count": 30,
     "metadata": {},
     "output_type": "execute_result"
    }
   ],
   "source": [
    "# Cantidad de hombres y mujeres\n",
    "dfLifestyle.groupby(['Occupation'])['Gender'].value_counts()"
   ]
  },
  {
   "cell_type": "code",
   "execution_count": 14,
   "id": "50dc28cb",
   "metadata": {
    "execution": {
     "iopub.execute_input": "2024-06-10T12:45:33.981415Z",
     "iopub.status.busy": "2024-06-10T12:45:33.980558Z",
     "iopub.status.idle": "2024-06-10T12:45:33.986883Z",
     "shell.execute_reply": "2024-06-10T12:45:33.985863Z"
    },
    "id": "C3axKd57r9Y7",
    "outputId": "7cd4387c-7856-4336-f638-b6a0ddcee830",
    "papermill": {
     "duration": 0.018168,
     "end_time": "2024-06-10T12:45:33.989247",
     "exception": false,
     "start_time": "2024-06-10T12:45:33.971079",
     "status": "completed"
    },
    "tags": []
   },
   "outputs": [
    {
     "name": "stdout",
     "output_type": "stream",
     "text": [
      "Horas mínimas de sueño: 5.8\n",
      "Horas máximas de sueño: 8.5\n"
     ]
    }
   ],
   "source": [
    "# Duración mínima y máxima del sueño de las personas\n",
    "print(\"Horas mínimas de sueño:\", dfLifestyle['Sleep Duration'].min())\n",
    "print(\"Horas máximas de sueño:\", dfLifestyle['Sleep Duration'].max())"
   ]
  },
  {
   "cell_type": "code",
   "execution_count": 15,
   "id": "959a700b",
   "metadata": {
    "execution": {
     "iopub.execute_input": "2024-06-10T12:45:34.007488Z",
     "iopub.status.busy": "2024-06-10T12:45:34.006739Z",
     "iopub.status.idle": "2024-06-10T12:45:34.016187Z",
     "shell.execute_reply": "2024-06-10T12:45:34.015087Z"
    },
    "id": "eI-7H68ovMTl",
    "outputId": "1244f538-37ff-4adf-e345-c125c3590679",
    "papermill": {
     "duration": 0.020957,
     "end_time": "2024-06-10T12:45:34.018348",
     "exception": false,
     "start_time": "2024-06-10T12:45:33.997391",
     "status": "completed"
    },
    "tags": []
   },
   "outputs": [
    {
     "data": {
      "text/plain": [
       "Gender\n",
       "Female    7.229730\n",
       "Male      7.036508\n",
       "Name: Sleep Duration, dtype: float64"
      ]
     },
     "execution_count": 15,
     "metadata": {},
     "output_type": "execute_result"
    }
   ],
   "source": [
    "# Duración del sueño entre hombres y mujeres\n",
    "dfLifestyle.groupby(['Gender'])['Sleep Duration'].mean()"
   ]
  },
  {
   "cell_type": "code",
   "execution_count": 16,
   "id": "0baa3fe7",
   "metadata": {
    "execution": {
     "iopub.execute_input": "2024-06-10T12:45:34.036780Z",
     "iopub.status.busy": "2024-06-10T12:45:34.035971Z",
     "iopub.status.idle": "2024-06-10T12:45:34.045387Z",
     "shell.execute_reply": "2024-06-10T12:45:34.044396Z"
    },
    "id": "cPnHr-arwuR2",
    "outputId": "e060943a-a6a9-42e1-8e38-96eba6c0c6a0",
    "papermill": {
     "duration": 0.020871,
     "end_time": "2024-06-10T12:45:34.047497",
     "exception": false,
     "start_time": "2024-06-10T12:45:34.026626",
     "status": "completed"
    },
    "tags": []
   },
   "outputs": [
    {
     "data": {
      "text/plain": [
       "Gender\n",
       "Female    7.664865\n",
       "Male      6.968254\n",
       "Name: Quality of Sleep, dtype: float64"
      ]
     },
     "execution_count": 16,
     "metadata": {},
     "output_type": "execute_result"
    }
   ],
   "source": [
    "dfLifestyle.groupby('Gender')['Quality of Sleep'].mean()"
   ]
  },
  {
   "cell_type": "code",
   "execution_count": 17,
   "id": "4aafaa73",
   "metadata": {
    "execution": {
     "iopub.execute_input": "2024-06-10T12:45:34.066700Z",
     "iopub.status.busy": "2024-06-10T12:45:34.065739Z",
     "iopub.status.idle": "2024-06-10T12:45:34.080281Z",
     "shell.execute_reply": "2024-06-10T12:45:34.079265Z"
    },
    "id": "TuCgpO33LqGM",
    "outputId": "0e84f57f-b132-4ec0-a7ab-b7ec4e9fb13b",
    "papermill": {
     "duration": 0.026511,
     "end_time": "2024-06-10T12:45:34.082441",
     "exception": false,
     "start_time": "2024-06-10T12:45:34.055930",
     "status": "completed"
    },
    "tags": []
   },
   "outputs": [
    {
     "data": {
      "text/html": [
       "<div>\n",
       "<style scoped>\n",
       "    .dataframe tbody tr th:only-of-type {\n",
       "        vertical-align: middle;\n",
       "    }\n",
       "\n",
       "    .dataframe tbody tr th {\n",
       "        vertical-align: top;\n",
       "    }\n",
       "\n",
       "    .dataframe thead th {\n",
       "        text-align: right;\n",
       "    }\n",
       "</style>\n",
       "<table border=\"1\" class=\"dataframe\">\n",
       "  <thead>\n",
       "    <tr style=\"text-align: right;\">\n",
       "      <th></th>\n",
       "      <th>Quality of Sleep</th>\n",
       "      <th>Sleep Duration</th>\n",
       "    </tr>\n",
       "    <tr>\n",
       "      <th>Occupation</th>\n",
       "      <th></th>\n",
       "      <th></th>\n",
       "    </tr>\n",
       "  </thead>\n",
       "  <tbody>\n",
       "    <tr>\n",
       "      <th>Sales Representative</th>\n",
       "      <td>4.000000</td>\n",
       "      <td>5.900000</td>\n",
       "    </tr>\n",
       "    <tr>\n",
       "      <th>Scientist</th>\n",
       "      <td>5.000000</td>\n",
       "      <td>6.000000</td>\n",
       "    </tr>\n",
       "    <tr>\n",
       "      <th>Salesperson</th>\n",
       "      <td>6.000000</td>\n",
       "      <td>6.403125</td>\n",
       "    </tr>\n",
       "    <tr>\n",
       "      <th>Software Engineer</th>\n",
       "      <td>6.500000</td>\n",
       "      <td>6.750000</td>\n",
       "    </tr>\n",
       "    <tr>\n",
       "      <th>Doctor</th>\n",
       "      <td>6.647887</td>\n",
       "      <td>6.970423</td>\n",
       "    </tr>\n",
       "    <tr>\n",
       "      <th>Teacher</th>\n",
       "      <td>6.975000</td>\n",
       "      <td>6.690000</td>\n",
       "    </tr>\n",
       "    <tr>\n",
       "      <th>Manager</th>\n",
       "      <td>7.000000</td>\n",
       "      <td>6.900000</td>\n",
       "    </tr>\n",
       "    <tr>\n",
       "      <th>Nurse</th>\n",
       "      <td>7.369863</td>\n",
       "      <td>7.063014</td>\n",
       "    </tr>\n",
       "    <tr>\n",
       "      <th>Accountant</th>\n",
       "      <td>7.891892</td>\n",
       "      <td>7.113514</td>\n",
       "    </tr>\n",
       "    <tr>\n",
       "      <th>Lawyer</th>\n",
       "      <td>7.893617</td>\n",
       "      <td>7.410638</td>\n",
       "    </tr>\n",
       "    <tr>\n",
       "      <th>Engineer</th>\n",
       "      <td>8.412698</td>\n",
       "      <td>7.987302</td>\n",
       "    </tr>\n",
       "  </tbody>\n",
       "</table>\n",
       "</div>"
      ],
      "text/plain": [
       "                      Quality of Sleep  Sleep Duration\n",
       "Occupation                                            \n",
       "Sales Representative          4.000000        5.900000\n",
       "Scientist                     5.000000        6.000000\n",
       "Salesperson                   6.000000        6.403125\n",
       "Software Engineer             6.500000        6.750000\n",
       "Doctor                        6.647887        6.970423\n",
       "Teacher                       6.975000        6.690000\n",
       "Manager                       7.000000        6.900000\n",
       "Nurse                         7.369863        7.063014\n",
       "Accountant                    7.891892        7.113514\n",
       "Lawyer                        7.893617        7.410638\n",
       "Engineer                      8.412698        7.987302"
      ]
     },
     "execution_count": 17,
     "metadata": {},
     "output_type": "execute_result"
    }
   ],
   "source": [
    "# Promedio de la calidad y duración del sueño en las distintas profesiones\n",
    "occ_qua=dfLifestyle.groupby('Occupation')[['Quality of Sleep', 'Sleep Duration']].mean()\n",
    "occ_qua.sort_values(by='Quality of Sleep')"
   ]
  },
  {
   "cell_type": "code",
   "execution_count": 49,
   "id": "5d5d0934",
   "metadata": {},
   "outputs": [
    {
     "name": "stderr",
     "output_type": "stream",
     "text": [
      "C:\\Users\\crisz\\AppData\\Local\\Temp\\ipykernel_9520\\3699318186.py:6: FutureWarning: \n",
      "\n",
      "Passing `palette` without assigning `hue` is deprecated and will be removed in v0.14.0. Assign the `y` variable to `hue` and set `legend=False` for the same effect.\n",
      "\n",
      "  sns.barplot(x=occ_qua.values, y=occ_qua.index, palette='plasma', orient='h')\n"
     ]
    },
    {
     "data": {
      "image/png": "[encoded data removed]",
      "text/plain": [
       "<Figure size 1200x800 with 1 Axes>"
      ]
     },
     "metadata": {},
     "output_type": "display_data"
    }
   ],
   "source": [
    "# Reutilizamos tu cálculo previo y lo ordenamos\n",
    "occ_qua = dfLifestyle.groupby('Occupation')['Quality of Sleep'].mean().sort_values()\n",
    "\n",
    "## Gráfica: Calidad del Sueño Promedio por Ocupación\n",
    "plt.figure(figsize=(12, 8))\n",
    "sns.barplot(x=occ_qua.values, y=occ_qua.index, palette='plasma', orient='h')\n",
    "\n",
    "# Añadimos títulos y etiquetas\n",
    "plt.title('Calidad de Sueño Promedio por Ocupación', fontsize=16)\n",
    "plt.xlabel('Calidad del Sueño Promedio (Escala 1-10)', fontsize=12)\n",
    "plt.ylabel('Ocupación', fontsize=12)\n",
    "plt.show()"
   ]
  },
  {
   "cell_type": "code",
   "execution_count": 50,
   "id": "3768da33",
   "metadata": {},
   "outputs": [
    {
     "name": "stderr",
     "output_type": "stream",
     "text": [
      "C:\\Users\\crisz\\AppData\\Local\\Temp\\ipykernel_9520\\3186957943.py:6: FutureWarning: \n",
      "\n",
      "Passing `palette` without assigning `hue` is deprecated and will be removed in v0.14.0. Assign the `y` variable to `hue` and set `legend=False` for the same effect.\n",
      "\n",
      "  sns.barplot(x=occ_stress.values, y=occ_stress.index, palette='magma', orient='h')\n"
     ]
    },
    {
     "data": {
      "image/png": "[encoded data removed]",
      "text/plain": [
       "<Figure size 1200x800 with 1 Axes>"
      ]
     },
     "metadata": {},
     "output_type": "display_data"
    }
   ],
   "source": [
    "# Calculamos el nivel de estrés promedio por ocupación y lo ordenamos\n",
    "occ_stress = dfLifestyle.groupby('Occupation')['Stress Level'].mean().sort_values()\n",
    "\n",
    "## Gráfica: Nivel de Estrés Promedio por Ocupación\n",
    "plt.figure(figsize=(12, 8))\n",
    "sns.barplot(x=occ_stress.values, y=occ_stress.index, palette='magma', orient='h')\n",
    "\n",
    "# Añadimos títulos y etiquetas\n",
    "plt.title('Nivel de Estrés Promedio por Ocupación', fontsize=16)\n",
    "plt.xlabel('Nivel de Estrés Promedio (Escala 1-10)', fontsize=12)\n",
    "plt.ylabel('Ocupación', fontsize=12)\n",
    "plt.show()"
   ]
  },
  {
   "cell_type": "code",
   "execution_count": 51,
   "id": "d0a0f90c",
   "metadata": {},
   "outputs": [
    {
     "data": {
      "image/png": "[encoded data removed]",
      "text/plain": [
       "<Figure size 1200x800 with 1 Axes>"
      ]
     },
     "metadata": {},
     "output_type": "display_data"
    }
   ],
   "source": [
    "## Gráfica: Distribución de Categorías de IMC por Ocupación\n",
    "plt.figure(figsize=(12, 8))\n",
    "sns.countplot(y='Occupation', hue='BMI Category', data=dfLifestyle, palette='rocket', order=dfLifestyle['Occupation'].value_counts().index)\n",
    "\n",
    "# Añadimos títulos y etiquetas\n",
    "plt.title('Distribución de IMC por Ocupación', fontsize=16)\n",
    "plt.xlabel('Cantidad de Personas', fontsize=12)\n",
    "plt.ylabel('Ocupación', fontsize=12)\n",
    "plt.legend(title='Categoría de IMC')\n",
    "plt.show()"
   ]
  },
  {
   "cell_type": "code",
   "execution_count": 18,
   "id": "28db5378",
   "metadata": {
    "execution": {
     "iopub.execute_input": "2024-06-10T12:45:34.101875Z",
     "iopub.status.busy": "2024-06-10T12:45:34.101148Z",
     "iopub.status.idle": "2024-06-10T12:45:34.113227Z",
     "shell.execute_reply": "2024-06-10T12:45:34.112282Z"
    },
    "id": "l0FJAyHNmwv6",
    "outputId": "29caac02-59be-4679-b693-abd1a410c74b",
    "papermill": {
     "duration": 0.02403,
     "end_time": "2024-06-10T12:45:34.115165",
     "exception": false,
     "start_time": "2024-06-10T12:45:34.091135",
     "status": "completed"
    },
    "tags": []
   },
   "outputs": [
    {
     "data": {
      "text/plain": [
       "Occupation            BMI Category \n",
       "Lawyer                Normal Weight     1\n",
       "Software Engineer     Overweight        1\n",
       "                      Obese             1\n",
       "Manager               Overweight        1\n",
       "Teacher               Obese             1\n",
       "Doctor                Normal Weight     2\n",
       "Lawyer                Obese             2\n",
       "                      Overweight        2\n",
       "Software Engineer     Normal Weight     2\n",
       "Sales Representative  Obese             2\n",
       "Engineer              Overweight        3\n",
       "                      Normal Weight     4\n",
       "Doctor                Obese             4\n",
       "Scientist             Overweight        4\n",
       "Accountant            Normal Weight     5\n",
       "                      Overweight        6\n",
       "Teacher               Normal            6\n",
       "Nurse                 Normal Weight     7\n",
       "Accountant            Normal           26\n",
       "Salesperson           Overweight       32\n",
       "Teacher               Overweight       33\n",
       "Lawyer                Normal           42\n",
       "Engineer              Normal           56\n",
       "Doctor                Normal           65\n",
       "Nurse                 Overweight       66\n",
       "Name: count, dtype: int64"
      ]
     },
     "execution_count": 18,
     "metadata": {},
     "output_type": "execute_result"
    }
   ],
   "source": [
    "# Índice de masa corporal por ocupaciones\n",
    "occ_bmi = dfLifestyle.groupby('Occupation')['BMI Category'].value_counts()\n",
    "\n",
    "occ_bmi.sort_values()"
   ]
  },
  {
   "cell_type": "code",
   "execution_count": 19,
   "id": "ad992531",
   "metadata": {
    "execution": {
     "iopub.execute_input": "2024-06-10T12:45:34.134428Z",
     "iopub.status.busy": "2024-06-10T12:45:34.133599Z",
     "iopub.status.idle": "2024-06-10T12:45:34.150072Z",
     "shell.execute_reply": "2024-06-10T12:45:34.149022Z"
    },
    "id": "8uQ9N_lrMK-V",
    "outputId": "c81beb96-9f83-4a37-8c91-61c0259dc226",
    "papermill": {
     "duration": 0.028386,
     "end_time": "2024-06-10T12:45:34.152240",
     "exception": false,
     "start_time": "2024-06-10T12:45:34.123854",
     "status": "completed"
    },
    "tags": []
   },
   "outputs": [
    {
     "data": {
      "text/html": [
       "<div>\n",
       "<style scoped>\n",
       "    .dataframe tbody tr th:only-of-type {\n",
       "        vertical-align: middle;\n",
       "    }\n",
       "\n",
       "    .dataframe tbody tr th {\n",
       "        vertical-align: top;\n",
       "    }\n",
       "\n",
       "    .dataframe thead th {\n",
       "        text-align: right;\n",
       "    }\n",
       "</style>\n",
       "<table border=\"1\" class=\"dataframe\">\n",
       "  <thead>\n",
       "    <tr style=\"text-align: right;\">\n",
       "      <th></th>\n",
       "      <th>Daily Steps</th>\n",
       "      <th>Physical Activity Level</th>\n",
       "      <th>Sleep Duration</th>\n",
       "      <th>Quality of Sleep</th>\n",
       "    </tr>\n",
       "    <tr>\n",
       "      <th>Occupation</th>\n",
       "      <th></th>\n",
       "      <th></th>\n",
       "      <th></th>\n",
       "      <th></th>\n",
       "    </tr>\n",
       "  </thead>\n",
       "  <tbody>\n",
       "    <tr>\n",
       "      <th>Sales Representative</th>\n",
       "      <td>3000.000000</td>\n",
       "      <td>30.000000</td>\n",
       "      <td>5.900000</td>\n",
       "      <td>4.000000</td>\n",
       "    </tr>\n",
       "    <tr>\n",
       "      <th>Scientist</th>\n",
       "      <td>5350.000000</td>\n",
       "      <td>41.000000</td>\n",
       "      <td>6.000000</td>\n",
       "      <td>5.000000</td>\n",
       "    </tr>\n",
       "    <tr>\n",
       "      <th>Manager</th>\n",
       "      <td>5500.000000</td>\n",
       "      <td>55.000000</td>\n",
       "      <td>6.900000</td>\n",
       "      <td>7.000000</td>\n",
       "    </tr>\n",
       "    <tr>\n",
       "      <th>Software Engineer</th>\n",
       "      <td>5800.000000</td>\n",
       "      <td>48.000000</td>\n",
       "      <td>6.750000</td>\n",
       "      <td>6.500000</td>\n",
       "    </tr>\n",
       "    <tr>\n",
       "      <th>Teacher</th>\n",
       "      <td>5957.500000</td>\n",
       "      <td>45.625000</td>\n",
       "      <td>6.690000</td>\n",
       "      <td>6.975000</td>\n",
       "    </tr>\n",
       "    <tr>\n",
       "      <th>Engineer</th>\n",
       "      <td>5980.952381</td>\n",
       "      <td>51.857143</td>\n",
       "      <td>7.987302</td>\n",
       "      <td>8.412698</td>\n",
       "    </tr>\n",
       "    <tr>\n",
       "      <th>Salesperson</th>\n",
       "      <td>6000.000000</td>\n",
       "      <td>45.000000</td>\n",
       "      <td>6.403125</td>\n",
       "      <td>6.000000</td>\n",
       "    </tr>\n",
       "    <tr>\n",
       "      <th>Doctor</th>\n",
       "      <td>6808.450704</td>\n",
       "      <td>55.352113</td>\n",
       "      <td>6.970423</td>\n",
       "      <td>6.647887</td>\n",
       "    </tr>\n",
       "    <tr>\n",
       "      <th>Accountant</th>\n",
       "      <td>6881.081081</td>\n",
       "      <td>58.108108</td>\n",
       "      <td>7.113514</td>\n",
       "      <td>7.891892</td>\n",
       "    </tr>\n",
       "    <tr>\n",
       "      <th>Lawyer</th>\n",
       "      <td>7661.702128</td>\n",
       "      <td>70.425532</td>\n",
       "      <td>7.410638</td>\n",
       "      <td>7.893617</td>\n",
       "    </tr>\n",
       "    <tr>\n",
       "      <th>Nurse</th>\n",
       "      <td>8057.534247</td>\n",
       "      <td>78.589041</td>\n",
       "      <td>7.063014</td>\n",
       "      <td>7.369863</td>\n",
       "    </tr>\n",
       "  </tbody>\n",
       "</table>\n",
       "</div>"
      ],
      "text/plain": [
       "                      Daily Steps  Physical Activity Level  Sleep Duration  \\\n",
       "Occupation                                                                   \n",
       "Sales Representative  3000.000000                30.000000        5.900000   \n",
       "Scientist             5350.000000                41.000000        6.000000   \n",
       "Manager               5500.000000                55.000000        6.900000   \n",
       "Software Engineer     5800.000000                48.000000        6.750000   \n",
       "Teacher               5957.500000                45.625000        6.690000   \n",
       "Engineer              5980.952381                51.857143        7.987302   \n",
       "Salesperson           6000.000000                45.000000        6.403125   \n",
       "Doctor                6808.450704                55.352113        6.970423   \n",
       "Accountant            6881.081081                58.108108        7.113514   \n",
       "Lawyer                7661.702128                70.425532        7.410638   \n",
       "Nurse                 8057.534247                78.589041        7.063014   \n",
       "\n",
       "                      Quality of Sleep  \n",
       "Occupation                              \n",
       "Sales Representative          4.000000  \n",
       "Scientist                     5.000000  \n",
       "Manager                       7.000000  \n",
       "Software Engineer             6.500000  \n",
       "Teacher                       6.975000  \n",
       "Engineer                      8.412698  \n",
       "Salesperson                   6.000000  \n",
       "Doctor                        6.647887  \n",
       "Accountant                    7.891892  \n",
       "Lawyer                        7.893617  \n",
       "Nurse                         7.369863  "
      ]
     },
     "execution_count": 19,
     "metadata": {},
     "output_type": "execute_result"
    }
   ],
   "source": [
    "occ_steps = dfLifestyle.groupby('Occupation')[['Daily Steps', 'Physical Activity Level', 'Sleep Duration', 'Quality of Sleep']].mean()\n",
    "occ_steps.sort_values(by='Daily Steps')"
   ]
  },
  {
   "cell_type": "code",
   "execution_count": 20,
   "id": "c530f789",
   "metadata": {
    "execution": {
     "iopub.execute_input": "2024-06-10T12:45:34.172189Z",
     "iopub.status.busy": "2024-06-10T12:45:34.171429Z",
     "iopub.status.idle": "2024-06-10T12:45:34.188845Z",
     "shell.execute_reply": "2024-06-10T12:45:34.187429Z"
    },
    "papermill": {
     "duration": 0.029979,
     "end_time": "2024-06-10T12:45:34.191134",
     "exception": false,
     "start_time": "2024-06-10T12:45:34.161155",
     "status": "completed"
    },
    "tags": []
   },
   "outputs": [
    {
     "data": {
      "text/html": [
       "<div>\n",
       "<style scoped>\n",
       "    .dataframe tbody tr th:only-of-type {\n",
       "        vertical-align: middle;\n",
       "    }\n",
       "\n",
       "    .dataframe tbody tr th {\n",
       "        vertical-align: top;\n",
       "    }\n",
       "\n",
       "    .dataframe thead th {\n",
       "        text-align: right;\n",
       "    }\n",
       "</style>\n",
       "<table border=\"1\" class=\"dataframe\">\n",
       "  <thead>\n",
       "    <tr style=\"text-align: right;\">\n",
       "      <th></th>\n",
       "      <th>Daily Steps</th>\n",
       "      <th>Physical Activity Level</th>\n",
       "      <th>Sleep Duration</th>\n",
       "      <th>Quality of Sleep</th>\n",
       "    </tr>\n",
       "    <tr>\n",
       "      <th>Occupation</th>\n",
       "      <th></th>\n",
       "      <th></th>\n",
       "      <th></th>\n",
       "      <th></th>\n",
       "    </tr>\n",
       "  </thead>\n",
       "  <tbody>\n",
       "    <tr>\n",
       "      <th>Sales Representative</th>\n",
       "      <td>3000.000000</td>\n",
       "      <td>30.000000</td>\n",
       "      <td>5.900000</td>\n",
       "      <td>4.000000</td>\n",
       "    </tr>\n",
       "    <tr>\n",
       "      <th>Scientist</th>\n",
       "      <td>5350.000000</td>\n",
       "      <td>41.000000</td>\n",
       "      <td>6.000000</td>\n",
       "      <td>5.000000</td>\n",
       "    </tr>\n",
       "    <tr>\n",
       "      <th>Salesperson</th>\n",
       "      <td>6000.000000</td>\n",
       "      <td>45.000000</td>\n",
       "      <td>6.403125</td>\n",
       "      <td>6.000000</td>\n",
       "    </tr>\n",
       "    <tr>\n",
       "      <th>Software Engineer</th>\n",
       "      <td>5800.000000</td>\n",
       "      <td>48.000000</td>\n",
       "      <td>6.750000</td>\n",
       "      <td>6.500000</td>\n",
       "    </tr>\n",
       "    <tr>\n",
       "      <th>Doctor</th>\n",
       "      <td>6808.450704</td>\n",
       "      <td>55.352113</td>\n",
       "      <td>6.970423</td>\n",
       "      <td>6.647887</td>\n",
       "    </tr>\n",
       "    <tr>\n",
       "      <th>Teacher</th>\n",
       "      <td>5957.500000</td>\n",
       "      <td>45.625000</td>\n",
       "      <td>6.690000</td>\n",
       "      <td>6.975000</td>\n",
       "    </tr>\n",
       "    <tr>\n",
       "      <th>Manager</th>\n",
       "      <td>5500.000000</td>\n",
       "      <td>55.000000</td>\n",
       "      <td>6.900000</td>\n",
       "      <td>7.000000</td>\n",
       "    </tr>\n",
       "    <tr>\n",
       "      <th>Nurse</th>\n",
       "      <td>8057.534247</td>\n",
       "      <td>78.589041</td>\n",
       "      <td>7.063014</td>\n",
       "      <td>7.369863</td>\n",
       "    </tr>\n",
       "    <tr>\n",
       "      <th>Accountant</th>\n",
       "      <td>6881.081081</td>\n",
       "      <td>58.108108</td>\n",
       "      <td>7.113514</td>\n",
       "      <td>7.891892</td>\n",
       "    </tr>\n",
       "    <tr>\n",
       "      <th>Lawyer</th>\n",
       "      <td>7661.702128</td>\n",
       "      <td>70.425532</td>\n",
       "      <td>7.410638</td>\n",
       "      <td>7.893617</td>\n",
       "    </tr>\n",
       "    <tr>\n",
       "      <th>Engineer</th>\n",
       "      <td>5980.952381</td>\n",
       "      <td>51.857143</td>\n",
       "      <td>7.987302</td>\n",
       "      <td>8.412698</td>\n",
       "    </tr>\n",
       "  </tbody>\n",
       "</table>\n",
       "</div>"
      ],
      "text/plain": [
       "                      Daily Steps  Physical Activity Level  Sleep Duration  \\\n",
       "Occupation                                                                   \n",
       "Sales Representative  3000.000000                30.000000        5.900000   \n",
       "Scientist             5350.000000                41.000000        6.000000   \n",
       "Salesperson           6000.000000                45.000000        6.403125   \n",
       "Software Engineer     5800.000000                48.000000        6.750000   \n",
       "Doctor                6808.450704                55.352113        6.970423   \n",
       "Teacher               5957.500000                45.625000        6.690000   \n",
       "Manager               5500.000000                55.000000        6.900000   \n",
       "Nurse                 8057.534247                78.589041        7.063014   \n",
       "Accountant            6881.081081                58.108108        7.113514   \n",
       "Lawyer                7661.702128                70.425532        7.410638   \n",
       "Engineer              5980.952381                51.857143        7.987302   \n",
       "\n",
       "                      Quality of Sleep  \n",
       "Occupation                              \n",
       "Sales Representative          4.000000  \n",
       "Scientist                     5.000000  \n",
       "Salesperson                   6.000000  \n",
       "Software Engineer             6.500000  \n",
       "Doctor                        6.647887  \n",
       "Teacher                       6.975000  \n",
       "Manager                       7.000000  \n",
       "Nurse                         7.369863  \n",
       "Accountant                    7.891892  \n",
       "Lawyer                        7.893617  \n",
       "Engineer                      8.412698  "
      ]
     },
     "execution_count": 20,
     "metadata": {},
     "output_type": "execute_result"
    }
   ],
   "source": [
    "# Podríamos ver mucho mejor el sentido de los datos si los ordenamos\n",
    "# en base a la calidad del sueño\n",
    "\n",
    "occ_steps = dfLifestyle.groupby('Occupation')[['Daily Steps', 'Physical Activity Level', 'Sleep Duration', 'Quality of Sleep']].mean()\n",
    "occ_steps.sort_values(by='Quality of Sleep')"
   ]
  },
  {
   "cell_type": "code",
   "execution_count": 52,
   "id": "66faa379",
   "metadata": {},
   "outputs": [
    {
     "name": "stderr",
     "output_type": "stream",
     "text": [
      "C:\\Users\\crisz\\AppData\\Local\\Temp\\ipykernel_9520\\3905615211.py:12: UserWarning: No artists with labels found to put in legend.  Note that artists whose label start with an underscore are ignored when legend() is called with no argument.\n",
      "  plt.legend(title='Trastorno del Sueño')\n"
     ]
    },
    {
     "data": {
      "image/png": "[encoded data removed]",
      "text/plain": [
       "<Figure size 1200x700 with 1 Axes>"
      ]
     },
     "metadata": {},
     "output_type": "display_data"
    }
   ],
   "source": [
    "# Filtramos para visualizar solo a las personas con algún trastorno\n",
    "sleep_disorder_df = dfLifestyle[dfLifestyle['Sleep Disorder'] != 'None'].copy()\n",
    "\n",
    "## Gráfica: Distribución de Edad por Trastorno del Sueño\n",
    "plt.figure(figsize=(12, 7))\n",
    "sns.kdeplot(data=sleep_disorder_df, x='Age', hue='Sleep Disorder', fill=True, common_norm=False, palette='crest')\n",
    "\n",
    "# Añadimos títulos y etiquetas\n",
    "plt.title('Distribución de Edad por Tipo de Trastorno del Sueño', fontsize=16)\n",
    "plt.xlabel('Edad (años)', fontsize=12)\n",
    "plt.ylabel('Densidad', fontsize=12)\n",
    "plt.legend(title='Trastorno del Sueño')\n",
    "plt.show()"
   ]
  },
  {
   "cell_type": "code",
   "execution_count": null,
   "id": "20a2343d",
   "metadata": {},
   "outputs": [],
   "source": []
  },
  {
   "cell_type": "markdown",
   "id": "2db71813",
   "metadata": {
    "id": "QOJnmefgfQVt",
    "papermill": {
     "duration": 0.008836,
     "end_time": "2024-06-10T12:45:34.209300",
     "exception": false,
     "start_time": "2024-06-10T12:45:34.200464",
     "status": "completed"
    },
    "tags": []
   },
   "source": [
    "# Resultados\n",
    "\n",
    "\n",
    "## Análisis del conjunto\n",
    "\n",
    "### Análisis General\n",
    "\n",
    "Sabemos que en el conjunto de datos contamos con *374* filas y *13* columnas de datos, de las cuales sabemos que en general los datos se dividen de la siguiente forma:\n",
    "\n",
    "|Género|Cantidad|\n",
    "|---|---|\n",
    "|Hombres|189|\n",
    "|Mujeres|185|\n",
    "\n",
    "Esto nos da un vistazo general del conjunto y podemos decir que el conjunto se encuentran en proporción, respecto a la cantidad de hombre y mujeres.\n",
    "\n",
    "## Clasificación dada por edad\n",
    "\n",
    "En el conjunto podemos encontrar las edades de las personas, con respecto a las edades podemos encontrar lo siguiente:\n",
    "\n",
    "- La edad más baja es de *27* años\n",
    "\n",
    "- La edad más alta es de *59* años\n",
    "\n",
    "Lo que podemos decir que el conjunto de datos toma en cuenta a personas que ya se encuentran en la edad laboral iniciando en el trabajo o con pocos años en el mismo, o de personas cercanas a jubilarse.\n",
    "\n",
    "La edad promedio del conjunto de datos es de *42* años y la desviación estándar es de *8.67*, lo que quiere decir que en este conjunto podemos encontrar datos muy dispersos lo que puede deberse a los pocos datos recabados.  \n",
    "\n",
    "Para apoyarnos en este análisis se agregó una nueva columna al conjunto de datos a la que se le llamó `Age_group` en la cuál se clasifico la edad de las personas de la siguiente manera:  \n",
    "\n",
    "- Edad menor o igual a 40: `Adulto`\n",
    "\n",
    "- Edad mayor a 40: `Mayor`  \n",
    "\n",
    "Tomando en cuenta este ordenamiento de los datos tenemos lo siguiente:\n",
    "\n",
    "|Clasificación|Cantidad|\n",
    "|---|---|\n",
    "|Mayor|209|\n",
    "|Adulto|165|\n",
    "\n",
    "\n",
    "Finalmente el promedio de edades por cada género queda de la siguiente forma:  \n",
    "\n",
    "|Gender|mean|std|\n",
    "|---|---|---|\n",
    "|Female|47\\.40|8\\.10|\n",
    "|Male|37\\.07|5\\.66|\n",
    "\n",
    "Podemos ver que existe una diferencia de `10` años en el promedio de edades de ambos géneros, y también notamos un diferencia grande en la desviación estándar, siendo ésta de `3` años.\n",
    "\n",
    "\n",
    "## Ocupaciones\n",
    "\n",
    "|Ocupación |Género|Cantidad|\n",
    "|---|---|---|\n",
    "|Accountant|Female|36|\n",
    "||Male|1|\n",
    "|Doctor|Male|69|\n",
    "||Female|2|\n",
    "|Engineer|Female|32|\n",
    "||Male|31|\n",
    "|Lawyer|Male|45|\n",
    "|| Female|2|\n",
    "|Manager|Female|1|\n",
    "|Nurse|Female|73|\n",
    "|Sales Representative|Male|2|\n",
    "|Salesperson|Male|32|\n",
    "|Scientist|Female|4|\n",
    "|Software Engineer|Male|4|\n",
    "|Teacher|Female|35|\n",
    "||Male|5|\n",
    "\n",
    "En esta gráfica notamos la siguiente:\n",
    "- Las ocupaciones en donde hay más presencia de mujeres son:\n",
    "\t- Contador\n",
    "\t- Ingeniería\n",
    "\t- Gerente\n",
    "\t- Enfermería\n",
    "\t- Ciencia\n",
    "\t- Maestro\n",
    "- Las ocupaciones en donde los hombres tienen más presencia:\n",
    "\t- Doctor\n",
    "\t- Representante de ventas\n",
    "\t- Ventas\n",
    "\t- Abogado\n",
    "\t- Ingeniero de Software\n",
    "\n",
    "Es importante mencionar que solamente en *Ingeniería* la diferencia es de solamente una persona.\n",
    "\n",
    "### Calidad del Sueño\n",
    "\n",
    "El promedio de la duración del sueño entre hombres y mujeres es la siguiente:\n",
    "\n",
    "|Genero|Promedio del sueño|Calidad del sueño|\n",
    "|---|---|---|\n",
    "|Female|7.23|7.66|\n",
    "|Male|7.04|6.97|\n",
    "\n",
    "Podemos ver que en general, las mujeres tienen un mejor sueño que los hombres no solamente en cantidad sino también en calidad, para profundizar más, obtendremos los mismos datos pero ahora en cada una de las profesiones del conjunto.\n",
    "\n",
    "|Occupation|Quality of Sleep|Sleep Duration|\n",
    "|---|---|---|\n",
    "|Sales Representative|4\\.0|5\\.9|\n",
    "|Scientist|5\\.0|6\\.0|\n",
    "|Salesperson|6\\.0|6\\.40|\n",
    "|Software Engineer|6\\.5|6\\.75|\n",
    "|Doctor|6\\.65|6\\.97|\n",
    "|Teacher|6\\.975|6\\.69|\n",
    "|Manager|7\\.0|6\\.9|\n",
    "|Nurse|7\\.37|7\\.06|\n",
    "|Accountant|7\\.89|7\\.11|\n",
    "|Lawyer|7\\.89|7\\.41|\n",
    "|Engineer|8\\.41|7\\.99|\n",
    "\n",
    "\n",
    "En estas tablas podemos ver que las peores ocupaciones que tienen la peor calidad y cantidad de sueño son:\n",
    "- Representante de Ventas\n",
    "- Científico\n",
    "- Ventas\n",
    "\n",
    "Y aquellas que tienen mejor calidad y tiempo de sueño son:\n",
    "- Ingeniero\n",
    "- Abogado\n",
    "- Contador\n",
    "\n",
    "En las profesiones donde peor calidad y cantidad de sueño hay se encuentran más hombres que mujeres.\n",
    "\n",
    "### Problemas de salud\n",
    "\n",
    "Finalmente buscaremos que tan buena salud tienen cada una de las personas en las distintas profesiones.\n",
    "\n",
    "Con este dato podremos sacar nuestras conclusiones y podremos responder las preguntas que nos hicimos en un inicio al comenzar con nuestro análisis.\n",
    "\n",
    "| Occupation           | BMI Category    | Count |\n",
    "|----------------------|-----------------|-------|\n",
    "| Lawyer               | Normal Weight   | 1     |\n",
    "| Software Engineer    | Overweight      | 1     |\n",
    "|                      | Obese           | 1     |\n",
    "| Manager              | Overweight      | 1     |\n",
    "| Teacher              | Obese           | 1     |\n",
    "| Doctor               | Normal Weight   | 2     |\n",
    "| Lawyer               | Obese           | 2     |\n",
    "|                      | Overweight      | 2     |\n",
    "| Software Engineer    | Normal Weight   | 2     |\n",
    "| Sales Representative | Obese           | 2     |\n",
    "| Engineer             | Overweight      | 3     |\n",
    "|                      | Normal Weight   | 4     |\n",
    "| Doctor               | Obese           | 4     |\n",
    "| Scientist            | Overweight      | 4     |\n",
    "| Accountant           | Normal Weight   | 5     |\n",
    "|                      | Overweight      | 6     |\n",
    "| Teacher              | Normal          | 6     |\n",
    "| Nurse                | Normal Weight   | 7     |\n",
    "| Accountant           | Normal          | 26    |\n",
    "| Salesperson          | Overweight      | 32    |\n",
    "| Teacher              | Overweight      | 33    |\n",
    "| Lawyer               | Normal          | 42    |\n",
    "| Engineer             | Normal          | 56    |\n",
    "| Doctor               | Normal          | 65    |\n",
    "| Nurse                | Overweight      | 66    |\n",
    "\n",
    "Otro punto importante a tener en cuenta es saber si la cantidad de pasos al día afecta a la salud y a la calidad del sueño, para conocer esto tendremos el promedio de los pasos diarios, el nivel de actividad física, duración del sueño y la calidad del sueño en cada una de las profesiones.\n",
    "\n",
    "|Occupation|Daily Steps|Physical Activity Level|Sleep Duration|Quality of Sleep|\n",
    "|---|---|---|---|---|\n",
    "|Sales Representative|3000\\.0|30\\.0|5\\.9|4\\.0|\n",
    "|Scientist|5350\\.0|41\\.0|6\\.0|5\\.0|\n",
    "|Manager|5500\\.0|55\\.0|6\\.9|7\\.0|\n",
    "|Software Engineer|5800\\.0|48\\.0|6\\.75|6\\.5|\n",
    "|Teacher|5957\\.5|45\\.62|6\\.69|6\\.97|\n",
    "|Engineer|5980\\.95|51\\.86|7\\.99|8\\.41|\n",
    "|Salesperson|6000\\.0|45\\.0|6\\.40|6\\.0|\n",
    "|Doctor|6808\\.45|55\\.35|6\\.97|6\\.65|\n",
    "|Accountant|6881\\.08|58\\.11|7\\.11|7\\.89|\n",
    "|Lawyer|7661\\.70|70\\.42|7\\.41|7\\.89|\n",
    "|Nurse|8057\\.53|78\\.59|7\\.06|7\\.37|\n",
    "\n",
    "<div style=\"page-break-after: always; visibility: hidden\">\n",
    "\\pagebreak\n",
    "</div>\n"
   ]
  },
  {
   "cell_type": "code",
   "execution_count": 53,
   "id": "4f3ae868",
   "metadata": {},
   "outputs": [
    {
     "data": {
      "image/png": "[encoded data removed]",
      "text/plain": [
       "<Figure size 1000x600 with 1 Axes>"
      ]
     },
     "metadata": {},
     "output_type": "display_data"
    }
   ],
   "source": [
    "## Gráfica: Relación entre Pasos Diarios y Calidad del Sueño\n",
    "plt.figure(figsize=(10, 6))\n",
    "sns.regplot(x='Daily Steps', y='Quality of Sleep', data=dfLifestyle,\n",
    "            scatter_kws={'alpha':0.5, 'color': 'darkcyan'}, line_kws={'color':'red'})\n",
    "\n",
    "# Añadimos títulos y etiquetas\n",
    "plt.title('Relación entre Pasos Diarios y Calidad del Sueño', fontsize=16)\n",
    "plt.xlabel('Pasos Diarios', fontsize=12)\n",
    "plt.ylabel('Calidad del Sueño (Escala 1-10)', fontsize=12)\n",
    "plt.show()"
   ]
  },
  {
   "cell_type": "code",
   "execution_count": 54,
   "id": "e235b5d0",
   "metadata": {},
   "outputs": [
    {
     "name": "stderr",
     "output_type": "stream",
     "text": [
      "C:\\Users\\crisz\\AppData\\Local\\Temp\\ipykernel_9520\\2923950320.py:3: FutureWarning: \n",
      "\n",
      "Passing `palette` without assigning `hue` is deprecated and will be removed in v0.14.0. Assign the `x` variable to `hue` and set `legend=False` for the same effect.\n",
      "\n",
      "  sns.boxplot(x='BMI Category', y='Daily Steps', data=dfLifestyle, palette='YlOrBr', order=['Normal', 'Normal Weight', 'Overweight', 'Obese'])\n"
     ]
    },
    {
     "data": {
      "image/png": "[encoded data removed]",
      "text/plain": [
       "<Figure size 1000x700 with 1 Axes>"
      ]
     },
     "metadata": {},
     "output_type": "display_data"
    }
   ],
   "source": [
    "## Gráfica: Distribución de Pasos Diarios por Categoría de IMC\n",
    "plt.figure(figsize=(10, 7))\n",
    "sns.boxplot(x='BMI Category', y='Daily Steps', data=dfLifestyle, palette='YlOrBr', order=['Normal', 'Normal Weight', 'Overweight', 'Obese'])\n",
    "\n",
    "# Añadimos títulos y etiquetas\n",
    "plt.title('Distribución de Pasos Diarios por Categoría de IMC', fontsize=16)\n",
    "plt.xlabel('Categoría de IMC', fontsize=12)\n",
    "plt.ylabel('Pasos Diarios', fontsize=12)\n",
    "plt.show()"
   ]
  },
  {
   "cell_type": "markdown",
   "id": "a5e3d54d",
   "metadata": {},
   "source": [
    "# Conclusiones\n",
    "\n",
    "Este conjunto de datos nos sirve para darnos un vistazo general de cada una de las profesiones y como éstas afecta a la salud de las personas. Digo general porque un problema de este conjunto es la cantidad de datos que tiene, ya que al contar solamente con *307* filas son muy pocas para todo el margen de edad que se tomó. Eso lo podemos notar al obtener el promedio de las edades y la desviación estándar por lo que, al terminar con nuestro análisis, podemos decir que hacen falta más datos o en su caso reducir el margen de edades de los encuestados.\n",
    "\n",
    "Pasando al sueño de cada una de las personas tenemos lo siguiente:\n",
    "\n",
    "Las mujeres en términos generales tienen una mejor calidad y cantidad de sueño respecto a los hombres ya que, las mujeres pueden tener un mejor control de estrés o porque las mujeres a las que se les hizo la encuesta parecen tener profesiones en las que se habla con menos personas que las profesiones de los hombres.\n",
    "\n",
    "Esto lo podemos acompañar si tomamos solamente las primeras cinco profesiones que presentan la mejor calidad y cantidad de sueño:\n",
    "\n",
    "- Ingeniería\n",
    "- Abogado\n",
    "- Contador\n",
    "- Enfermería\n",
    "- Gerente\n",
    "\n",
    "De estas profesiones en tres se encuentran más mujeres (Contador, Enfermería y Gerente) en una hay más hombres (Abogado) y en Ingeniería se encuentra la diferencia de una persona entre ambos.\n",
    "\n",
    "Muchas de estas profesiones también se repiten cuando revisamos la cantidad de pasos al día, podemos ver que las cinco profesiones donde más pasos al día se dan son:\n",
    "\n",
    "- Enfermería\n",
    "- Abogado\n",
    "- Contador\n",
    "- Doctor\n",
    "- Vendedor\n",
    "\n",
    "En la mayoría de estas personas podemos ver que caminar forma una parte fundamental de ellas por lo que no es de extrañar que éstas presenten un promedio alto de pasos al día y esto también se ve en la salud del sueño, ya que si vemos la tabla de los pasos al día podemos ver que en ella existe una relación que entre más pasos se den mejor va a ser el sueño.\n",
    "\n",
    "Aunque esta misma relación no se nota cuando hablamos del índice de masa corporal, porque de la lista anterior podemos ver que en las siguientes se encuentran muchas personas con sobrepeso:\n",
    "\n",
    "- Enfermería\n",
    "- Vendedor\n",
    "\n",
    "Finalmente, las preguntas hechas alrededor de la edad de los encuestados no se respondieron ya que se encontró que el rango de edades es muy alto y se cuenta con muy pocos datos por lo que las respuestas que se puedan encontrar en este ámbito no pueden llegar a ser relevantes con la realidad."
   ]
  }
 ],
 "metadata": {
  "colab": {
   "provenance": []
  },
  "kaggle": {
   "accelerator": "none",
   "dataSources": [
    {
     "databundleVersionId": 8726263,
     "datasetId": 4816271,
     "sourceId": 8580417,
     "sourceType": "datasetVersion"
    },
    {
     "databundleVersionId": 6574072,
     "datasetId": 3321433,
     "sourceId": 6491929,
     "sourceType": "datasetVersion"
    }
   ],
   "dockerImageVersionId": 30698,
   "isGpuEnabled": false,
   "isInternetEnabled": true,
   "language": "python",
   "sourceType": "notebook"
  },
  "kernelspec": {
   "display_name": "Python 3",
   "language": "python",
   "name": "python3"
  },
  "language_info": {
   "codemirror_mode": {
    "name": "ipython",
    "version": 3
   },
   "file_extension": ".py",
   "mimetype": "text/x-python",
   "name": "python",
   "nbconvert_exporter": "python",
   "pygments_lexer": "ipython3",
   "version": "3.13.7"
  },
  "papermill": {
   "default_parameters": {},
   "duration": 5.060226,
   "end_time": "2024-06-10T12:45:34.739007",
   "environment_variables": {},
   "exception": null,
   "input_path": "__notebook__.ipynb",
   "output_path": "__notebook__.ipynb",
   "parameters": {},
   "start_time": "2024-06-10T12:45:29.678781",
   "version": "2.5.0"
  }
 },
 "nbformat": 4,
 "nbformat_minor": 5
}
